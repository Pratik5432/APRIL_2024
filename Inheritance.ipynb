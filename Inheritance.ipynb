{
  "nbformat": 4,
  "nbformat_minor": 0,
  "metadata": {
    "colab": {
      "provenance": []
    },
    "kernelspec": {
      "name": "python3",
      "display_name": "Python 3"
    },
    "language_info": {
      "name": "python"
    }
  },
  "cells": [
    {
      "cell_type": "markdown",
      "source": [
        "### ***INHERITANCE***\n",
        "\n",
        "- Inheritance allows us to create a class using the defination of another class.\n",
        "\n",
        "- Inheritance allows us to define a class that inherits all the methods and properties from another class.\n",
        "\n",
        "- Parent class is the class being inherited from, also called base class.\n",
        "\n",
        "- Child class is the class that inherits from another class, also called derived class."
      ],
      "metadata": {
        "id": "FCQPdYSxmtDE"
      }
    },
    {
      "cell_type": "markdown",
      "source": [
        "### ***Syntax***\n",
        "\n",
        "Class BaseClass:\n",
        "\n",
        "{Body}\n",
        "\n",
        "Class DerivedClass(BaseClass):\n",
        "\n",
        "{Body}"
      ],
      "metadata": {
        "id": "EyY28pjI237_"
      }
    },
    {
      "cell_type": "markdown",
      "source": [
        "### ***super()***\n",
        "\n",
        "- Python also has a super() function that will make the child class inherit all the methods and properties from its parent:"
      ],
      "metadata": {
        "id": "F2MVLBcurqoZ"
      }
    },
    {
      "cell_type": "markdown",
      "source": [
        "### ***Types of Inheritance***\n",
        "\n",
        "- ***Single inheritance***: When a child class inherits from only one parent class, it is called single inheritance. We saw an example above.\n",
        "- ***Multiple inheritances***: When a child class inherits from multiple parent classes, it is called multiple inheritances. Unlike Java, python shows multiple inheritances.\n",
        "- ***Multilevel inheritance***:When we have a child and grandchild relationship. This means that a child class will inherit from its parent class, which in turn is inheriting from its parent class.\n",
        "- ***Hierarchical inheritance***: More than one derived class can be created from a single base.\n",
        "- ***Hybrid inheritance***: This form combines more than one form of inheritance. Basically, it is a blend of more than one type of inheritance."
      ],
      "metadata": {
        "id": "ktgWEloUzNse"
      }
    },
    {
      "cell_type": "markdown",
      "source": [
        "### ***Private members of the parent class***\n",
        "- We don’t always want the instance variables of the parent class to be inherited by the child class i.e. we can make some of the instance variables of the parent class private, which won’t be available to the child class.\n",
        "\n",
        "- In Python inheritance, we can make an instance variable private by adding double underscores before its name."
      ],
      "metadata": {
        "id": "kv5FTv_o0Vfy"
      }
    },
    {
      "cell_type": "code",
      "source": [
        "# parent class\n",
        "class Person():\n",
        "  def __init__(self, name, age):\n",
        "    self.name = name\n",
        "    self.age = age\n",
        "\n",
        "  def display(self):\n",
        "    print(self.name, self.age)\n",
        "\n",
        "# child class\n",
        "class Student(Person):\n",
        "  def __init__(self, name, age, dob):\n",
        "    self.sName = name\n",
        "    self.sAge = age\n",
        "    self.dob = dob\n",
        "    # inheriting the properties of parent class\n",
        "    super().__init__(\"Rahul\", age)\n",
        "\n",
        "  def displayInfo(self):\n",
        "    print(self.sName, self.sAge, self.dob)\n",
        "\n",
        "obj = Student(\"Mayank\", 23, \"16-03-2000\")\n",
        "obj.display()\n",
        "obj.displayInfo()"
      ],
      "metadata": {
        "id": "zo4qQZV65jsN"
      },
      "execution_count": null,
      "outputs": []
    },
    {
      "cell_type": "code",
      "source": [
        "# Python example to show the working of multiple\n",
        "# inheritance\n",
        "\n",
        "class Base1(object):\n",
        "\tdef __init__(self):\n",
        "\t\tself.str1 = \"Geek1\"\n",
        "\t\tprint(\"Base1\")\n",
        "\n",
        "\n",
        "class Base2(object):\n",
        "\tdef __init__(self):\n",
        "\t\tself.str2 = \"Geek2\"\n",
        "\t\tprint(\"Base2\")\n",
        "\n",
        "\n",
        "class Derived(Base1, Base2):\n",
        "\tdef __init__(self):\n",
        "\n",
        "\t\t# Calling constructors of Base1\n",
        "\t\t# and Base2 classes\n",
        "\t\tBase1.__init__(self)\n",
        "\t\tBase2.__init__(self)\n",
        "\t\tprint(\"Derived\")\n",
        "\n",
        "\tdef printStrs(self):\n",
        "\t\tprint(self.str1, self.str2)\n",
        "\n",
        "\n",
        "ob = Derived()\n",
        "ob.printStrs()\n"
      ],
      "metadata": {
        "id": "OvpO-rUZ5mgn"
      },
      "execution_count": null,
      "outputs": []
    }
  ]
}