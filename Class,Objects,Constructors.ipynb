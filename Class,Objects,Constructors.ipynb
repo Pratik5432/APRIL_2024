{
  "nbformat": 4,
  "nbformat_minor": 0,
  "metadata": {
    "colab": {
      "provenance": []
    },
    "kernelspec": {
      "name": "python3",
      "display_name": "Python 3"
    },
    "language_info": {
      "name": "python"
    }
  },
  "cells": [
    {
      "cell_type": "markdown",
      "source": [
        "# CLASS & OBJECT"
      ],
      "metadata": {
        "id": "jpGBEBe56YlE"
      }
    },
    {
      "cell_type": "markdown",
      "source": [
        "### ***CLASS***\n",
        "- It is a user-defined data type which defines it's own properties & functions.\n",
        "- It is only the logical representation of the object.\n",
        "- Eg : Human Being\n",
        "       The body parts of the human are it's properties & the action performed by body parts are known as functions.\n",
        "- It does not occupy any memory space till the object is instantiated."
      ],
      "metadata": {
        "id": "Yzvgin_u6lIb"
      }
    },
    {
      "cell_type": "markdown",
      "source": [
        "### ***OBJECT***\n",
        "- It is a runtime entity.\n",
        "- It ia an instance of a class.\n",
        "- An object can represent a person, place, or any other item.\n",
        "- They contain address & take some space in memory."
      ],
      "metadata": {
        "id": "dJs-vkWZ9DGS"
      }
    },
    {
      "cell_type": "markdown",
      "source": [
        "### ***Constructors***\n",
        "\n",
        "**Main purpose : To write configuration related code.**\n",
        "\n",
        "- A constructor is a unique function that gets called automatically when an object is created of a class.\n",
        "\n",
        "- The main purpose of a constructor is to initialize or assign values to the data members of that class.\n",
        "\n",
        "- It cannot return any value other than none.\n",
        "\n",
        "- Types of constructors:\n",
        "            Default constructor: The default constructor is a simple constructor which doesn’t accept any arguments.\n",
        "\n",
        "            Parameterized constructor: constructor with parameters is known as parameterized constructor.  \n"
      ],
      "metadata": {
        "id": "sNYp2uX5Wt1z"
      }
    },
    {
      "cell_type": "markdown",
      "source": [
        "### ***Self parameter***\n",
        "\n",
        "- The self parameter is a reference to the current instance of the class, and is used to access variables that belongs to the class.\n",
        "\n",
        "- It does not have to be named self , you can call it whatever you like, but it has to be the first parameter of any function in the class.\n",
        "\n",
        "- Basically, if you want to call a method from another method inside a class, self can be used(Golden rule of OOP : Only and Only object of a class can access everything in a class. So, in a sitatution where you have to call method from another method inside of a class(which is not allowed) self can be used as self refers to current instance of an object)."
      ],
      "metadata": {
        "id": "M1XKnHTjXM8d"
      }
    },
    {
      "cell_type": "markdown",
      "source": [
        "### ***Magic Methods (Dunder Methods)***\n",
        "\n",
        "- Methods having two prefixes and suffix underscores in the method name. Dunder here means “Double Under (Underscores)”. These are commonly used for operator overloading.\n",
        "\n",
        "- https://www.geeksforgeeks.org/dunder-magic-methods-python/"
      ],
      "metadata": {
        "id": "RGf7bHj5XfJ-"
      }
    },
    {
      "cell_type": "code",
      "source": [
        "class Student:\n",
        "  name = \"\"\n",
        "  age = 0\n",
        "\n",
        "  def __init__(self,name,age):\n",
        "    self.name = name\n",
        "    self.age = age\n",
        "\n",
        "  def printInfo(self):\n",
        "    print(\"The name of the student is:\",self.name)\n",
        "    print(\"The age of the student is:\",self.age)"
      ],
      "metadata": {
        "id": "EmXIpAnk6l1E"
      },
      "execution_count": 21,
      "outputs": []
    },
    {
      "cell_type": "code",
      "source": [
        "s1 = Student(\"Pratik\",22)\n",
        "s1.printInfo()"
      ],
      "metadata": {
        "colab": {
          "base_uri": "https://localhost:8080/"
        },
        "id": "USxV3CeL6mSA",
        "outputId": "068e6855-71a7-47b7-9ec0-5aa9bf6b14a2"
      },
      "execution_count": 22,
      "outputs": [
        {
          "output_type": "stream",
          "name": "stdout",
          "text": [
            "The name of the student is: Pratik\n",
            "The age of the student is: 22\n"
          ]
        }
      ]
    },
    {
      "cell_type": "code",
      "source": [
        "s2 = Student(\"Kshitij\",18)\n",
        "s2.printInfo()"
      ],
      "metadata": {
        "colab": {
          "base_uri": "https://localhost:8080/"
        },
        "id": "BnOViAft6mNy",
        "outputId": "fd05fe16-fdbb-43f8-bfc4-f6b22117c050"
      },
      "execution_count": 23,
      "outputs": [
        {
          "output_type": "stream",
          "name": "stdout",
          "text": [
            "The name of the student is: Kshitij\n",
            "The age of the student is: 18\n"
          ]
        }
      ]
    },
    {
      "cell_type": "code",
      "source": [
        "class ATM:\n",
        "\n",
        "  #Constructor\n",
        "  def __init__(self):\n",
        "    self.pin = ''\n",
        "    self.balance = 0\n",
        "    self.menu()\n",
        "\n",
        "\n",
        "  def menu(self):\n",
        "    user_input = input(\"\"\"\n",
        "    Hi how can I help you?\n",
        "    1. Press 1 to create pin\n",
        "    2. Press 2 to change pin\n",
        "    3. Press 3 to check balance\n",
        "    4. Press 4 to withdraw\n",
        "    5. Anything else to exit\n",
        "    \"\"\")\n",
        "\n",
        "    if user_input == '1':\n",
        "      self.create_pin()\n",
        "    elif user_input == '2':\n",
        "      self.change_pin()\n",
        "    elif user_input == '3':\n",
        "      self.check_balance()\n",
        "    elif user_input == '4':\n",
        "      self.withdraw()\n",
        "    else:\n",
        "      exit()\n",
        "\n",
        "\n",
        "  #Function if user user_input = 1\n",
        "  def create_pin(self):\n",
        "    user_pin = input(\"Enter PIN you want to create \")\n",
        "    self.pin = user_pin\n",
        "\n",
        "    user_balance = int(input(\"Enter balance \"))\n",
        "    self.balance = user_balance\n",
        "\n",
        "    print(\"PIN created\")\n",
        "    self.menu()\n",
        "\n",
        "\n",
        "  #Function if user user_input = 2\n",
        "  def change_pin(self):\n",
        "    old_pin = input(\"Enter your present PIN \")\n",
        "\n",
        "    if old_pin == self.pin:\n",
        "      user_pin = input(\"Enter new PIN you want to create \")\n",
        "      self.pin = user_pin\n",
        "      print('pin change successful')\n",
        "      self.menu()\n",
        "    else:\n",
        "      print(\"Wrong PIN\")\n",
        "      self.menu()\n",
        "\n",
        "\n",
        "  #Function if user user_input = 3\n",
        "  def check_balance(self):\n",
        "    user_pin = input('enter your PIN ')\n",
        "\n",
        "    if user_pin == self.pin:\n",
        "      print('Your balance is',self.balance)\n",
        "    else:\n",
        "      print('Wrong PIN')\n",
        "\n",
        "    self.menu()\n",
        "\n",
        "\n",
        "  #Function if user user_input = 4\n",
        "  def withdraw(self):\n",
        "    user_pin = input('enter your PIN ')\n",
        "\n",
        "    if user_pin == self.pin:\n",
        "      amount = int(input('Withdraw amount'))\n",
        "      if amount <= self.balance:\n",
        "        self.balance = self.balance - amount\n",
        "        print('withdrawl successful.Balance is',self.balance)\n",
        "      else:\n",
        "        print('Not sufficient balance')\n",
        "    else:\n",
        "      print('Wrong PIN')\n",
        "\n",
        "    self.menu()"
      ],
      "metadata": {
        "id": "1AUOp0duWHQW"
      },
      "execution_count": 26,
      "outputs": []
    },
    {
      "cell_type": "code",
      "source": [
        "person1 = ATM()"
      ],
      "metadata": {
        "id": "99StNCOFWHDH"
      },
      "execution_count": null,
      "outputs": []
    }
  ]
}